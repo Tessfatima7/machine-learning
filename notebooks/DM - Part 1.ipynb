{
  "cells": [
    {
      "cell_type": "markdown",
      "source": [
        "# Data Mining Assignment 2\n",
        "## Taskeen Fatima - 03-134211-045"
      ],
      "metadata": {
        "id": "xELxBNe3SU-H"
      }
    },
    {
      "cell_type": "code",
      "source": [
        "# Import necessary libraries\n",
        "import pandas as pd\n",
        "import numpy as np\n",
        "import seaborn as sns\n",
        "import matplotlib.pyplot as plt\n",
        "from sklearn.preprocessing import LabelEncoder, StandardScaler\n",
        "from sklearn.model_selection import train_test_split\n",
        "from sklearn.decomposition import PCA\n",
        "from sklearn.svm import SVC\n",
        "from sklearn.linear_model import LogisticRegression\n",
        "import xgboost as xgb\n",
        "import lightgbm as lgb\n",
        "from sklearn.tree import DecisionTreeClassifier\n",
        "from sklearn.ensemble import RandomForestClassifier, AdaBoostClassifier, GradientBoostingClassifier\n",
        "from sklearn.cluster import KMeans, AgglomerativeClustering\n",
        "from sklearn.metrics import silhouette_score, adjusted_rand_score, normalized_mutual_info_score\n",
        "from sklearn.metrics import accuracy_score, precision_score, recall_score, f1_score, classification_report, confusion_matrix\n",
        "import scipy.cluster.hierarchy as sch\n",
        "from sklearn.feature_selection import VarianceThreshold"
      ],
      "metadata": {
        "id": "rP-cObGdSV1E"
      },
      "execution_count": 18,
      "outputs": []
    },
    {
      "cell_type": "code",
      "source": [
        "# Load the dataset\n",
        "data = pd.read_csv('/content/lung cancer survey.csv')"
      ],
      "metadata": {
        "id": "AamO2t5fSeso"
      },
      "execution_count": 2,
      "outputs": []
    },
    {
      "cell_type": "code",
      "source": [
        "# Display the initial rows of the dataset\n",
        "print(data.head())\n",
        "\n",
        "# Data information and summary statistics\n",
        "print(data.info())\n",
        "print(data.describe())"
      ],
      "metadata": {
        "colab": {
          "base_uri": "https://localhost:8080/"
        },
        "id": "rWDQ_BYFSgVd",
        "outputId": "e13d907a-73c3-433d-90d3-f0e3a48a46ae"
      },
      "execution_count": 3,
      "outputs": [
        {
          "output_type": "stream",
          "name": "stdout",
          "text": [
            "  GENDER  AGE  SMOKING  YELLOW_FINGERS  ANXIETY  PEER_PRESSURE  \\\n",
            "0      M   69        1               2        2              1   \n",
            "1      M   74        2               1        1              1   \n",
            "2      F   59        1               1        1              2   \n",
            "3      M   63        2               2        2              1   \n",
            "4      F   63        1               2        1              1   \n",
            "\n",
            "   CHRONIC DISEASE  FATIGUE   ALLERGY   WHEEZING  ALCOHOL CONSUMING  COUGHING  \\\n",
            "0                1         2         1         2                  2         2   \n",
            "1                2         2         2         1                  1         1   \n",
            "2                1         2         1         2                  1         2   \n",
            "3                1         1         1         1                  2         1   \n",
            "4                1         1         1         2                  1         2   \n",
            "\n",
            "   SHORTNESS OF BREATH  SWALLOWING DIFFICULTY  CHEST PAIN LUNG_CANCER  \n",
            "0                    2                      2           2         YES  \n",
            "1                    2                      2           2         YES  \n",
            "2                    2                      1           2          NO  \n",
            "3                    1                      2           2          NO  \n",
            "4                    2                      1           1          NO  \n",
            "<class 'pandas.core.frame.DataFrame'>\n",
            "RangeIndex: 309 entries, 0 to 308\n",
            "Data columns (total 16 columns):\n",
            " #   Column                 Non-Null Count  Dtype \n",
            "---  ------                 --------------  ----- \n",
            " 0   GENDER                 309 non-null    object\n",
            " 1   AGE                    309 non-null    int64 \n",
            " 2   SMOKING                309 non-null    int64 \n",
            " 3   YELLOW_FINGERS         309 non-null    int64 \n",
            " 4   ANXIETY                309 non-null    int64 \n",
            " 5   PEER_PRESSURE          309 non-null    int64 \n",
            " 6   CHRONIC DISEASE        309 non-null    int64 \n",
            " 7   FATIGUE                309 non-null    int64 \n",
            " 8   ALLERGY                309 non-null    int64 \n",
            " 9   WHEEZING               309 non-null    int64 \n",
            " 10  ALCOHOL CONSUMING      309 non-null    int64 \n",
            " 11  COUGHING               309 non-null    int64 \n",
            " 12  SHORTNESS OF BREATH    309 non-null    int64 \n",
            " 13  SWALLOWING DIFFICULTY  309 non-null    int64 \n",
            " 14  CHEST PAIN             309 non-null    int64 \n",
            " 15  LUNG_CANCER            309 non-null    object\n",
            "dtypes: int64(14), object(2)\n",
            "memory usage: 38.8+ KB\n",
            "None\n",
            "              AGE     SMOKING  YELLOW_FINGERS     ANXIETY  PEER_PRESSURE  \\\n",
            "count  309.000000  309.000000      309.000000  309.000000     309.000000   \n",
            "mean    62.673139    1.563107        1.569579    1.498382       1.501618   \n",
            "std      8.210301    0.496806        0.495938    0.500808       0.500808   \n",
            "min     21.000000    1.000000        1.000000    1.000000       1.000000   \n",
            "25%     57.000000    1.000000        1.000000    1.000000       1.000000   \n",
            "50%     62.000000    2.000000        2.000000    1.000000       2.000000   \n",
            "75%     69.000000    2.000000        2.000000    2.000000       2.000000   \n",
            "max     87.000000    2.000000        2.000000    2.000000       2.000000   \n",
            "\n",
            "       CHRONIC DISEASE    FATIGUE     ALLERGY     WHEEZING  ALCOHOL CONSUMING  \\\n",
            "count       309.000000  309.000000  309.000000  309.000000         309.000000   \n",
            "mean          1.504854    1.673139    1.556634    1.556634           1.556634   \n",
            "std           0.500787    0.469827    0.497588    0.497588           0.497588   \n",
            "min           1.000000    1.000000    1.000000    1.000000           1.000000   \n",
            "25%           1.000000    1.000000    1.000000    1.000000           1.000000   \n",
            "50%           2.000000    2.000000    2.000000    2.000000           2.000000   \n",
            "75%           2.000000    2.000000    2.000000    2.000000           2.000000   \n",
            "max           2.000000    2.000000    2.000000    2.000000           2.000000   \n",
            "\n",
            "         COUGHING  SHORTNESS OF BREATH  SWALLOWING DIFFICULTY  CHEST PAIN  \n",
            "count  309.000000           309.000000             309.000000  309.000000  \n",
            "mean     1.579288             1.640777               1.469256    1.556634  \n",
            "std      0.494474             0.480551               0.499863    0.497588  \n",
            "min      1.000000             1.000000               1.000000    1.000000  \n",
            "25%      1.000000             1.000000               1.000000    1.000000  \n",
            "50%      2.000000             2.000000               1.000000    2.000000  \n",
            "75%      2.000000             2.000000               2.000000    2.000000  \n",
            "max      2.000000             2.000000               2.000000    2.000000  \n"
          ]
        }
      ]
    },
    {
      "cell_type": "markdown",
      "source": [
        "## Data preprocessing"
      ],
      "metadata": {
        "id": "6SQ5FyAoTi-A"
      }
    },
    {
      "cell_type": "code",
      "source": [
        "# Encode categorical features\n",
        "label_encoder = LabelEncoder()\n",
        "data['GENDER'] = label_encoder.fit_transform(data['GENDER'])  # M becomes 1, F becomes 0\n",
        "data['LUNG_CANCER'] = label_encoder.fit_transform(data['LUNG_CANCER'])  # YES becomes 1, NO becomes 0"
      ],
      "metadata": {
        "id": "VrFECUtwThI6"
      },
      "execution_count": 4,
      "outputs": []
    },
    {
      "cell_type": "code",
      "source": [
        "# Check for missing values\n",
        "print(\"Missing values:\\n\", data.isnull().sum())"
      ],
      "metadata": {
        "colab": {
          "base_uri": "https://localhost:8080/"
        },
        "id": "9aD5y6x-Tndo",
        "outputId": "03c56431-424b-49e3-dac4-7421170e62cd"
      },
      "execution_count": 5,
      "outputs": [
        {
          "output_type": "stream",
          "name": "stdout",
          "text": [
            "Missing values:\n",
            " GENDER                   0\n",
            "AGE                      0\n",
            "SMOKING                  0\n",
            "YELLOW_FINGERS           0\n",
            "ANXIETY                  0\n",
            "PEER_PRESSURE            0\n",
            "CHRONIC DISEASE          0\n",
            "FATIGUE                  0\n",
            "ALLERGY                  0\n",
            "WHEEZING                 0\n",
            "ALCOHOL CONSUMING        0\n",
            "COUGHING                 0\n",
            "SHORTNESS OF BREATH      0\n",
            "SWALLOWING DIFFICULTY    0\n",
            "CHEST PAIN               0\n",
            "LUNG_CANCER              0\n",
            "dtype: int64\n"
          ]
        }
      ]
    },
    {
      "cell_type": "markdown",
      "source": [
        "## Feature Selection"
      ],
      "metadata": {
        "id": "R3_f2D3ATwbU"
      }
    },
    {
      "cell_type": "code",
      "source": [
        "# Feature selection: remove low-variance features\n",
        "selector = VarianceThreshold(threshold=0.1)\n",
        "selected_features = selector.fit_transform(data.drop('LUNG_CANCER', axis=1))\n",
        "\n",
        "# Scale the selected features\n",
        "scaler = StandardScaler()\n",
        "selected_features_scaled = scaler.fit_transform(selected_features)"
      ],
      "metadata": {
        "id": "t6-7O_6STqaB"
      },
      "execution_count": 6,
      "outputs": []
    },
    {
      "cell_type": "markdown",
      "source": [
        "### Model Training and Testing"
      ],
      "metadata": {
        "id": "TOA-zkLbTyt_"
      }
    },
    {
      "cell_type": "code",
      "source": [
        "# Apply K-Means clustering\n",
        "kmeans = KMeans(n_clusters=2, random_state=42)\n",
        "kmeans_labels = kmeans.fit_predict(selected_features_scaled)\n",
        "silhouette_kmeans = silhouette_score(selected_features_scaled, kmeans_labels)\n",
        "\n",
        "# Apply Agglomerative clustering\n",
        "agglo = AgglomerativeClustering(n_clusters=2, linkage='ward')\n",
        "agglo_labels = agglo.fit_predict(selected_features_scaled)\n",
        "silhouette_agglo = silhouette_score(selected_features_scaled, agglo_labels)"
      ],
      "metadata": {
        "id": "obFPVTSVTr1b"
      },
      "execution_count": 7,
      "outputs": []
    },
    {
      "cell_type": "markdown",
      "source": [
        "Model Evaluation"
      ],
      "metadata": {
        "id": "D9bzDCLKT0Lr"
      }
    },
    {
      "cell_type": "code",
      "source": [
        "# Align cluster labels\n",
        "def align_labels(true_labels, cluster_labels):\n",
        "    new_labels = np.zeros_like(cluster_labels)\n",
        "    for i in np.unique(cluster_labels):\n",
        "        mask = (cluster_labels == i)\n",
        "        true_labels_in_cluster = true_labels[mask]\n",
        "        most_common_label = np.bincount(true_labels_in_cluster).argmax()\n",
        "        new_labels[mask] = most_common_label\n",
        "    return new_labels\n",
        "\n",
        "# Align labels for K-Means and Agglomerative Clustering\n",
        "target = data['LUNG_CANCER'].values\n",
        "aligned_labels_kmeans = align_labels(target, kmeans_labels)\n",
        "aligned_labels_agglo = align_labels(target, agglo_labels)\n",
        "\n",
        "# Confusion matrices and accuracy scores\n",
        "cm_kmeans = confusion_matrix(target, aligned_labels_kmeans)\n",
        "cm_agglo = confusion_matrix(target, aligned_labels_agglo)\n",
        "\n",
        "print(\"Confusion Matrix for K-Means:\\n\", cm_kmeans)\n",
        "print(\"Accuracy for K-Means:\", accuracy_score(target, aligned_labels_kmeans))\n",
        "\n",
        "print(\"Confusion Matrix for Agglomerative Clustering:\\n\", cm_agglo)\n",
        "print(\"Accuracy for Agglomerative Clustering:\", accuracy_score(target, aligned_labels_agglo))\n",
        "\n",
        "# Plotting the results\n",
        "fig, axes = plt.subplots(1, 2, figsize=(16, 6))\n",
        "\n",
        "sns.heatmap(cm_kmeans, annot=True, fmt='d', cmap='Blues', cbar=False, ax=axes[0])\n",
        "axes[0].set_title('K-Means Clustering')\n",
        "axes[0].set_xlabel('Predicted Label')\n",
        "axes[0].set_ylabel('True Label')\n",
        "\n",
        "sns.heatmap(cm_agglo, annot=True, fmt='d', cmap='Greens', cbar=False, ax=axes[1])\n",
        "axes[1].set_title('Agglomerative Clustering')\n",
        "axes[1].set_xlabel('Predicted Label')\n",
        "axes[1].set_ylabel('True Label')\n",
        "\n",
        "plt.tight_layout()\n",
        "plt.show()"
      ],
      "metadata": {
        "colab": {
          "base_uri": "https://localhost:8080/",
          "height": 569
        },
        "id": "CUFtG_duTe-1",
        "outputId": "c301ddbf-32c4-4b8d-b023-beb57694844b"
      },
      "execution_count": 8,
      "outputs": [
        {
          "output_type": "stream",
          "name": "stdout",
          "text": [
            "Confusion Matrix for K-Means:\n",
            " [[  0  39]\n",
            " [  0 270]]\n",
            "Accuracy for K-Means: 0.8737864077669902\n",
            "Confusion Matrix for Agglomerative Clustering:\n",
            " [[  0  39]\n",
            " [  0 270]]\n",
            "Accuracy for Agglomerative Clustering: 0.8737864077669902\n"
          ]
        },
        {
          "output_type": "display_data",
          "data": {
            "text/plain": [
              "<Figure size 1600x600 with 2 Axes>"
            ],
            "image/png": "[encoded data removed]"
          },
          "metadata": {}
        }
      ]
    },
    {
      "cell_type": "code",
      "source": [
        "# Validation metrics\n",
        "ari_kmeans = adjusted_rand_score(target, kmeans_labels)\n",
        "nmi_kmeans = normalized_mutual_info_score(target, kmeans_labels)\n",
        "\n",
        "ari_agglo = adjusted_rand_score(target, agglo_labels)\n",
        "nmi_agglo = normalized_mutual_info_score(target, agglo_labels)\n",
        "\n",
        "print(\"Silhouette Score for K-Means:\", silhouette_kmeans)\n",
        "print(\"Adjusted Rand Index for K-Means:\", ari_kmeans)\n",
        "print(\"Normalized Mutual Information for K-Means:\", nmi_kmeans)\n",
        "\n",
        "print(\"\\n\\nSilhouette Score for Agglomerative Clustering:\", silhouette_agglo)\n",
        "print(\"Adjusted Rand Index for Agglomerative Clustering:\", ari_agglo)\n",
        "print(\"Normalized Mutual Information for Agglomerative Clustering:\", nmi_agglo)"
      ],
      "metadata": {
        "colab": {
          "base_uri": "https://localhost:8080/"
        },
        "id": "YwCb3xk_UA22",
        "outputId": "e3202cba-8913-4f4c-b291-78e97ac2c690"
      },
      "execution_count": 9,
      "outputs": [
        {
          "output_type": "stream",
          "name": "stdout",
          "text": [
            "Silhouette Score for K-Means: 0.1362862700310478\n",
            "Adjusted Rand Index for K-Means: -0.009139064590864181\n",
            "Normalized Mutual Information for K-Means: 0.03998086139522074\n",
            "\n",
            "\n",
            "Silhouette Score for Agglomerative Clustering: 0.13189730191638077\n",
            "Adjusted Rand Index for Agglomerative Clustering: -0.010381729275121274\n",
            "Normalized Mutual Information for Agglomerative Clustering: 0.0037624956305902617\n"
          ]
        }
      ]
    },
    {
      "cell_type": "markdown",
      "source": [
        "## Summary\n",
        "\n",
        "The evaluation metrics for both K-Means and Agglomerative Clustering reveal that the clustering methods did not perform well on the dataset. For K-Means, the Silhouette Score of 0.136 indicates weak clustering with poor separation between clusters, while an Adjusted Rand Index (ARI) of -0.009 shows a near-random agreement with the true labels. The Normalized Mutual Information (NMI) of 0.039 further highlights minimal overlap between predicted clusters and actual labels. Similarly, Agglomerative Clustering showed a Silhouette Score of 0.131, suggesting weak clustering structure, with an ARI of -0.010 indicating even poorer alignment with actual labels. The NMI of 0.003 underscores that the clusters had almost no mutual information with the true labels. Overall, both clustering techniques demonstrated limited effectiveness in separating classes within the dataset, as evidenced by low scores across all metrics."
      ],
      "metadata": {
        "id": "AMa3POkZUeMy"
      }
    },
    {
      "cell_type": "markdown",
      "source": [
        "## New dataset"
      ],
      "metadata": {
        "id": "WFHRvGzFU248"
      }
    },
    {
      "cell_type": "code",
      "source": [
        "# Convert scaled features to DataFrame\n",
        "scaled_features_df = pd.DataFrame(selected_features_scaled, columns=data.drop('LUNG_CANCER', axis=1).columns)\n",
        "\n",
        "# Add the 'LUNG_CANCER' column to the scaled features DataFrame\n",
        "scaled_features_df['LUNG_CANCER'] = target\n",
        "\n",
        "# Save the DataFrame to a CSV file for future use\n",
        "scaled_features_df.to_csv('scaled_lung_cancer_dataset.csv', index=False)"
      ],
      "metadata": {
        "id": "ljaFL9h0U4Ot"
      },
      "execution_count": 10,
      "outputs": []
    },
    {
      "cell_type": "markdown",
      "source": [
        "## Supervised Learning"
      ],
      "metadata": {
        "id": "PHWX-SnWVfQA"
      }
    },
    {
      "cell_type": "code",
      "source": [
        "# Data Exploration (First few rows)\n",
        "print(scaled_features_df.head())"
      ],
      "metadata": {
        "colab": {
          "base_uri": "https://localhost:8080/"
        },
        "id": "OzIedjoyVg3u",
        "outputId": "7ddda0ea-fed4-4400-f86c-8916c0f768e6"
      },
      "execution_count": 11,
      "outputs": [
        {
          "output_type": "stream",
          "name": "stdout",
          "text": [
            "     GENDER       AGE   SMOKING  YELLOW_FINGERS   ANXIETY  PEER_PRESSURE  \\\n",
            "0  0.952579  0.771850 -1.135292        0.869300  1.003241      -1.003241   \n",
            "1  0.952579  1.381829  0.880830       -1.150351 -0.996769      -1.003241   \n",
            "2 -1.049781 -0.448107 -1.135292       -1.150351 -0.996769       0.996769   \n",
            "3  0.952579  0.039876  0.880830        0.869300  1.003241      -1.003241   \n",
            "4 -1.049781  0.039876 -1.135292        0.869300 -0.996769      -1.003241   \n",
            "\n",
            "   CHRONIC DISEASE  FATIGUE   ALLERGY   WHEEZING  ALCOHOL CONSUMING  COUGHING  \\\n",
            "0        -1.009756  0.696833 -1.120480  0.892475           0.892475  0.852207   \n",
            "1         0.990338  0.696833  0.892475 -1.120480          -1.120480 -1.173424   \n",
            "2        -1.009756  0.696833 -1.120480  0.892475          -1.120480  0.852207   \n",
            "3        -1.009756 -1.435063 -1.120480 -1.120480           0.892475 -1.173424   \n",
            "4        -1.009756 -1.435063 -1.120480  0.892475          -1.120480  0.852207   \n",
            "\n",
            "   SHORTNESS OF BREATH  SWALLOWING DIFFICULTY  CHEST PAIN  LUNG_CANCER  \n",
            "0             0.748736               1.063501    0.892475            1  \n",
            "1             0.748736               1.063501    0.892475            1  \n",
            "2             0.748736              -0.940291    0.892475            0  \n",
            "3            -1.335584               1.063501    0.892475            0  \n",
            "4             0.748736              -0.940291   -1.120480            0  \n"
          ]
        }
      ]
    },
    {
      "cell_type": "code",
      "source": [
        "# Split the dataset into features and target\n",
        "X = scaled_features_df.drop('LUNG_CANCER', axis=1)\n",
        "y = scaled_features_df['LUNG_CANCER']"
      ],
      "metadata": {
        "id": "jKEuV6S7VmY8"
      },
      "execution_count": 12,
      "outputs": []
    },
    {
      "cell_type": "code",
      "source": [
        "# Variance Threshold for feature selection\n",
        "selector = VarianceThreshold(threshold=0.1)\n",
        "features_vt = selector.fit_transform(X)"
      ],
      "metadata": {
        "id": "60fnW-BPV8YV"
      },
      "execution_count": 13,
      "outputs": []
    },
    {
      "cell_type": "code",
      "source": [
        "# Split data into train and test sets\n",
        "X_train, X_test, y_train, y_test = train_test_split(features_vt, y, test_size=0.2, random_state=42)"
      ],
      "metadata": {
        "id": "hf0O7ZARV-YR"
      },
      "execution_count": 14,
      "outputs": []
    },
    {
      "cell_type": "markdown",
      "source": [
        "## Model Training"
      ],
      "metadata": {
        "id": "LdpzEjEcWHfG"
      }
    },
    {
      "cell_type": "code",
      "source": [
        "# List of classifiers to apply\n",
        "classifiers = {\n",
        "    \"Decision Tree\": DecisionTreeClassifier(),\n",
        "    \"SVM\": SVC(),\n",
        "    \"XGBoost\": xgb.XGBClassifier(use_label_encoder=False, eval_metric='logloss'),\n",
        "    \"AdaBoost\": AdaBoostClassifier(),\n",
        "    \"LightGBM\": lgb.LGBMClassifier()\n",
        "}"
      ],
      "metadata": {
        "id": "c-r8MjXyWI7M"
      },
      "execution_count": 15,
      "outputs": []
    },
    {
      "cell_type": "markdown",
      "source": [
        "## Model Testing and Evaluation"
      ],
      "metadata": {
        "id": "LGKpD0RSWM0r"
      }
    },
    {
      "cell_type": "markdown",
      "source": [
        "### Decision Tree"
      ],
      "metadata": {
        "id": "0QBoisimWMix"
      }
    },
    {
      "cell_type": "code",
      "source": [
        "# Decision Tree Classifier\n",
        "print(\"Decision Tree Classifier Results:\")\n",
        "dt_model = DecisionTreeClassifier()\n",
        "dt_model.fit(X_train, y_train)\n",
        "y_pred_dt = dt_model.predict(X_test)\n",
        "\n",
        "# Performance metrics for Decision Tree\n",
        "accuracy_dt = accuracy_score(y_test, y_pred_dt)\n",
        "precision_dt = precision_score(y_test, y_pred_dt, average='weighted')\n",
        "recall_dt = recall_score(y_test, y_pred_dt, average='weighted')\n",
        "f1_dt = f1_score(y_test, y_pred_dt, average='weighted')\n",
        "\n",
        "print(f\"Accuracy: {accuracy_dt:.2f}\")\n",
        "print(f\"Precision: {precision_dt:.2f}\")\n",
        "print(f\"Recall: {recall_dt:.2f}\")\n",
        "print(f\"F1-Score: {f1_dt:.2f}\")\n",
        "\n",
        "# Classification report for Decision Tree\n",
        "print(\"Classification Report:\\n\", classification_report(y_test, y_pred_dt))\n",
        "\n",
        "# Confusion matrix for Decision Tree\n",
        "conf_matrix_dt = confusion_matrix(y_test, y_pred_dt)\n",
        "plt.figure(figsize=(8, 6))\n",
        "sns.heatmap(conf_matrix_dt, annot=True, fmt='d', cmap='Blues', cbar=False)\n",
        "plt.title('Confusion Matrix for Decision Tree Classifier')\n",
        "plt.xlabel('Predicted Label')\n",
        "plt.ylabel('True Label')\n",
        "plt.show()"
      ],
      "metadata": {
        "colab": {
          "base_uri": "https://localhost:8080/",
          "height": 824
        },
        "id": "iidMYxnYWL7W",
        "outputId": "12bd54fc-f355-4f0b-b8fa-a83aa1d52f80"
      },
      "execution_count": 19,
      "outputs": [
        {
          "output_type": "stream",
          "name": "stdout",
          "text": [
            "Decision Tree Classifier Results:\n",
            "Accuracy: 0.97\n",
            "Precision: 0.97\n",
            "Recall: 0.97\n",
            "F1-Score: 0.97\n",
            "Classification Report:\n",
            "               precision    recall  f1-score   support\n",
            "\n",
            "           0       0.50      0.50      0.50         2\n",
            "           1       0.98      0.98      0.98        60\n",
            "\n",
            "    accuracy                           0.97        62\n",
            "   macro avg       0.74      0.74      0.74        62\n",
            "weighted avg       0.97      0.97      0.97        62\n",
            "\n"
          ]
        },
        {
          "output_type": "display_data",
          "data": {
            "text/plain": [
              "<Figure size 800x600 with 1 Axes>"
            ],
            "image/png": "[encoded data removed]"
          },
          "metadata": {}
        }
      ]
    },
    {
      "cell_type": "markdown",
      "source": [
        "### Support Vector Machine Classifier"
      ],
      "metadata": {
        "id": "vc7KPbn8W2jz"
      }
    },
    {
      "cell_type": "code",
      "source": [
        "# Support Vector Machine (SVM) Classifier\n",
        "print(\"Support Vector Machine Classifier Results:\")\n",
        "svm_model = SVC()\n",
        "svm_model.fit(X_train, y_train)\n",
        "y_pred_svm = svm_model.predict(X_test)\n",
        "\n",
        "# Performance metrics for SVM\n",
        "accuracy_svm = accuracy_score(y_test, y_pred_svm)\n",
        "precision_svm = precision_score(y_test, y_pred_svm, average='weighted')\n",
        "recall_svm = recall_score(y_test, y_pred_svm, average='weighted')\n",
        "f1_svm = f1_score(y_test, y_pred_svm, average='weighted')\n",
        "\n",
        "print(f\"Accuracy: {accuracy_svm:.2f}\")\n",
        "print(f\"Precision: {precision_svm:.2f}\")\n",
        "print(f\"Recall: {recall_svm:.2f}\")\n",
        "print(f\"F1-Score: {f1_svm:.2f}\")\n",
        "\n",
        "# Classification report for SVM\n",
        "print(\"Classification Report:\\n\", classification_report(y_test, y_pred_svm))\n",
        "\n",
        "# Confusion matrix for SVM\n",
        "conf_matrix_svm = confusion_matrix(y_test, y_pred_svm)\n",
        "plt.figure(figsize=(8, 6))\n",
        "sns.heatmap(conf_matrix_svm, annot=True, fmt='d', cmap='Oranges', cbar=False)\n",
        "plt.title('Confusion Matrix for SVM Classifier')\n",
        "plt.xlabel('Predicted Label')\n",
        "plt.ylabel('True Label')\n",
        "plt.show()"
      ],
      "metadata": {
        "colab": {
          "base_uri": "https://localhost:8080/",
          "height": 824
        },
        "id": "6D6Ye22eWyqw",
        "outputId": "db975232-1968-482e-a29f-112e3c09396f"
      },
      "execution_count": 20,
      "outputs": [
        {
          "output_type": "stream",
          "name": "stdout",
          "text": [
            "Support Vector Machine Classifier Results:\n",
            "Accuracy: 0.97\n",
            "Precision: 0.97\n",
            "Recall: 0.97\n",
            "F1-Score: 0.97\n",
            "Classification Report:\n",
            "               precision    recall  f1-score   support\n",
            "\n",
            "           0       0.50      0.50      0.50         2\n",
            "           1       0.98      0.98      0.98        60\n",
            "\n",
            "    accuracy                           0.97        62\n",
            "   macro avg       0.74      0.74      0.74        62\n",
            "weighted avg       0.97      0.97      0.97        62\n",
            "\n"
          ]
        },
        {
          "output_type": "display_data",
          "data": {
            "text/plain": [
              "<Figure size 800x600 with 1 Axes>"
            ],
            "image/png": "[encoded data removed]"
          },
          "metadata": {}
        }
      ]
    },
    {
      "cell_type": "markdown",
      "source": [
        "### XGBoost Classifier Results"
      ],
      "metadata": {
        "id": "lp7MZBLoW4iY"
      }
    },
    {
      "cell_type": "code",
      "source": [
        "# XGBoost Classifier\n",
        "print(\"XGBoost Classifier Results:\")\n",
        "xgb_model = xgb.XGBClassifier(use_label_encoder=False, eval_metric='logloss')\n",
        "xgb_model.fit(X_train, y_train)\n",
        "y_pred_xgb = xgb_model.predict(X_test)\n",
        "\n",
        "# Performance metrics for XGBoost\n",
        "accuracy_xgb = accuracy_score(y_test, y_pred_xgb)\n",
        "precision_xgb = precision_score(y_test, y_pred_xgb, average='weighted')\n",
        "recall_xgb = recall_score(y_test, y_pred_xgb, average='weighted')\n",
        "f1_xgb = f1_score(y_test, y_pred_xgb, average='weighted')\n",
        "\n",
        "print(f\"Accuracy: {accuracy_xgb:.2f}\")\n",
        "print(f\"Precision: {precision_xgb:.2f}\")\n",
        "print(f\"Recall: {recall_xgb:.2f}\")\n",
        "print(f\"F1-Score: {f1_xgb:.2f}\")\n",
        "\n",
        "# Classification report for XGBoost\n",
        "print(\"Classification Report:\\n\", classification_report(y_test, y_pred_xgb))\n",
        "\n",
        "# Confusion matrix for XGBoost\n",
        "conf_matrix_xgb = confusion_matrix(y_test, y_pred_xgb)\n",
        "plt.figure(figsize=(8, 6))\n",
        "sns.heatmap(conf_matrix_xgb, annot=True, fmt='d', cmap='Greens', cbar=False)\n",
        "plt.title('Confusion Matrix for XGBoost Classifier')\n",
        "plt.xlabel('Predicted Label')\n",
        "plt.ylabel('True Label')\n",
        "plt.show()"
      ],
      "metadata": {
        "colab": {
          "base_uri": "https://localhost:8080/",
          "height": 894
        },
        "id": "fcmX36_gW6eo",
        "outputId": "476b28d7-3117-4add-ed42-d16f99c7ff6d"
      },
      "execution_count": 21,
      "outputs": [
        {
          "output_type": "stream",
          "name": "stdout",
          "text": [
            "XGBoost Classifier Results:\n",
            "Accuracy: 0.98\n",
            "Precision: 0.98\n",
            "Recall: 0.98\n",
            "F1-Score: 0.98\n",
            "Classification Report:\n",
            "               precision    recall  f1-score   support\n",
            "\n",
            "           0       1.00      0.50      0.67         2\n",
            "           1       0.98      1.00      0.99        60\n",
            "\n",
            "    accuracy                           0.98        62\n",
            "   macro avg       0.99      0.75      0.83        62\n",
            "weighted avg       0.98      0.98      0.98        62\n",
            "\n"
          ]
        },
        {
          "output_type": "stream",
          "name": "stderr",
          "text": [
            "/usr/local/lib/python3.10/dist-packages/xgboost/core.py:158: UserWarning: [17:46:50] WARNING: /workspace/src/learner.cc:740: \n",
            "Parameters: { \"use_label_encoder\" } are not used.\n",
            "\n",
            "  warnings.warn(smsg, UserWarning)\n"
          ]
        },
        {
          "output_type": "display_data",
          "data": {
            "text/plain": [
              "<Figure size 800x600 with 1 Axes>"
            ],
            "image/png": "[encoded data removed]"
          },
          "metadata": {}
        }
      ]
    },
    {
      "cell_type": "markdown",
      "source": [
        "### AdaBoost Classifier"
      ],
      "metadata": {
        "id": "izhT07lzW_CD"
      }
    },
    {
      "cell_type": "code",
      "source": [
        "print(\"AdaBoost Classifier Results:\")\n",
        "ada_model = AdaBoostClassifier()\n",
        "ada_model.fit(X_train, y_train)\n",
        "y_pred_ada = ada_model.predict(X_test)\n",
        "\n",
        "# Performance metrics for AdaBoost\n",
        "accuracy_ada = accuracy_score(y_test, y_pred_ada)\n",
        "precision_ada = precision_score(y_test, y_pred_ada, average='weighted')\n",
        "recall_ada = recall_score(y_test, y_pred_ada, average='weighted')\n",
        "f1_ada = f1_score(y_test, y_pred_ada, average='weighted')\n",
        "\n",
        "print(f\"Accuracy: {accuracy_ada:.2f}\")\n",
        "print(f\"Precision: {precision_ada:.2f}\")\n",
        "print(f\"Recall: {recall_ada:.2f}\")\n",
        "print(f\"F1-Score: {f1_ada:.2f}\")\n",
        "\n",
        "# Classification report for AdaBoost\n",
        "print(\"Classification Report:\\n\", classification_report(y_test, y_pred_ada))\n",
        "\n",
        "# Confusion matrix for AdaBoost\n",
        "conf_matrix_ada = confusion_matrix(y_test, y_pred_ada)\n",
        "plt.figure(figsize=(8, 6))\n",
        "sns.heatmap(conf_matrix_ada, annot=True, fmt='d', cmap='Purples', cbar=False)\n",
        "plt.title('Confusion Matrix for AdaBoost Classifier')\n",
        "plt.xlabel('Predicted Label')\n",
        "plt.ylabel('True Label')\n",
        "plt.show()"
      ],
      "metadata": {
        "colab": {
          "base_uri": "https://localhost:8080/",
          "height": 879
        },
        "id": "kcxSOzeGW_1Z",
        "outputId": "7eb64810-a25e-4761-c4cd-4b919327eb0a"
      },
      "execution_count": 22,
      "outputs": [
        {
          "output_type": "stream",
          "name": "stdout",
          "text": [
            "AdaBoost Classifier Results:\n",
            "Accuracy: 0.98\n",
            "Precision: 0.98\n",
            "Recall: 0.98\n",
            "F1-Score: 0.98\n",
            "Classification Report:\n",
            "               precision    recall  f1-score   support\n",
            "\n",
            "           0       1.00      0.50      0.67         2\n",
            "           1       0.98      1.00      0.99        60\n",
            "\n",
            "    accuracy                           0.98        62\n",
            "   macro avg       0.99      0.75      0.83        62\n",
            "weighted avg       0.98      0.98      0.98        62\n",
            "\n"
          ]
        },
        {
          "output_type": "stream",
          "name": "stderr",
          "text": [
            "/usr/local/lib/python3.10/dist-packages/sklearn/ensemble/_weight_boosting.py:527: FutureWarning: The SAMME.R algorithm (the default) is deprecated and will be removed in 1.6. Use the SAMME algorithm to circumvent this warning.\n",
            "  warnings.warn(\n"
          ]
        },
        {
          "output_type": "display_data",
          "data": {
            "text/plain": [
              "<Figure size 800x600 with 1 Axes>"
            ],
            "image/png": "[encoded data removed]"
          },
          "metadata": {}
        }
      ]
    },
    {
      "cell_type": "markdown",
      "source": [
        "### LightGBM Classifier"
      ],
      "metadata": {
        "id": "4ZR68nnlXDr2"
      }
    },
    {
      "cell_type": "code",
      "source": [
        "print(\"LightGBM Classifier Results:\")\n",
        "lgb_model = lgb.LGBMClassifier()\n",
        "lgb_model.fit(X_train, y_train)\n",
        "y_pred_lgb = lgb_model.predict(X_test)\n",
        "\n",
        "# Performance metrics for LightGBM\n",
        "accuracy_lgb = accuracy_score(y_test, y_pred_lgb)\n",
        "precision_lgb = precision_score(y_test, y_pred_lgb, average='weighted')\n",
        "recall_lgb = recall_score(y_test, y_pred_lgb, average='weighted')\n",
        "f1_lgb = f1_score(y_test, y_pred_lgb, average='weighted')\n",
        "\n",
        "print(f\"Accuracy: {accuracy_lgb:.2f}\")\n",
        "print(f\"Precision: {precision_lgb:.2f}\")\n",
        "print(f\"Recall: {recall_lgb:.2f}\")\n",
        "print(f\"F1-Score: {f1_lgb:.2f}\")\n",
        "\n",
        "# Classification report for LightGBM\n",
        "print(\"Classification Report:\\n\", classification_report(y_test, y_pred_lgb))\n",
        "\n",
        "# Confusion matrix for LightGBM\n",
        "conf_matrix_lgb = confusion_matrix(y_test, y_pred_lgb)\n",
        "plt.figure(figsize=(8, 6))\n",
        "sns.heatmap(conf_matrix_lgb, annot=True, fmt='d', cmap='Greys', cbar=False)\n",
        "plt.title('Confusion Matrix for LightGBM Classifier')\n",
        "plt.xlabel('Predicted Label')\n",
        "plt.ylabel('True Label')\n",
        "plt.show()"
      ],
      "metadata": {
        "colab": {
          "base_uri": "https://localhost:8080/",
          "height": 1000
        },
        "id": "YrjNOcYpXEZP",
        "outputId": "fe035af2-557e-4adc-a748-daf62ca7fbb2"
      },
      "execution_count": 23,
      "outputs": [
        {
          "output_type": "stream",
          "name": "stdout",
          "text": [
            "LightGBM Classifier Results:\n",
            "[LightGBM] [Info] Number of positive: 210, number of negative: 37\n",
            "[LightGBM] [Info] Auto-choosing row-wise multi-threading, the overhead of testing was 0.001171 seconds.\n",
            "You can set `force_row_wise=true` to remove the overhead.\n",
            "And if memory is not enough, you can set `force_col_wise=true`.\n",
            "[LightGBM] [Info] Total Bins 73\n",
            "[LightGBM] [Info] Number of data points in the train set: 247, number of used features: 15\n",
            "[LightGBM] [Info] [binary:BoostFromScore]: pavg=0.850202 -> initscore=1.736190\n",
            "[LightGBM] [Info] Start training from score 1.736190\n",
            "[LightGBM] [Warning] No further splits with positive gain, best gain: -inf\n",
            "[LightGBM] [Warning] No further splits with positive gain, best gain: -inf\n",
            "[LightGBM] [Warning] No further splits with positive gain, best gain: -inf\n",
            "[LightGBM] [Warning] No further splits with positive gain, best gain: -inf\n",
            "[LightGBM] [Warning] No further splits with positive gain, best gain: -inf\n",
            "[LightGBM] [Warning] No further splits with positive gain, best gain: -inf\n",
            "[LightGBM] [Warning] No further splits with positive gain, best gain: -inf\n",
            "[LightGBM] [Warning] No further splits with positive gain, best gain: -inf\n",
            "[LightGBM] [Warning] No further splits with positive gain, best gain: -inf\n",
            "[LightGBM] [Warning] No further splits with positive gain, best gain: -inf\n",
            "[LightGBM] [Warning] No further splits with positive gain, best gain: -inf\n",
            "[LightGBM] [Warning] No further splits with positive gain, best gain: -inf\n",
            "[LightGBM] [Warning] No further splits with positive gain, best gain: -inf\n",
            "[LightGBM] [Warning] No further splits with positive gain, best gain: -inf\n",
            "[LightGBM] [Warning] No further splits with positive gain, best gain: -inf\n",
            "[LightGBM] [Warning] No further splits with positive gain, best gain: -inf\n",
            "[LightGBM] [Warning] No further splits with positive gain, best gain: -inf\n",
            "[LightGBM] [Warning] No further splits with positive gain, best gain: -inf\n",
            "[LightGBM] [Warning] No further splits with positive gain, best gain: -inf\n",
            "[LightGBM] [Warning] No further splits with positive gain, best gain: -inf\n",
            "[LightGBM] [Warning] No further splits with positive gain, best gain: -inf\n",
            "[LightGBM] [Warning] No further splits with positive gain, best gain: -inf\n",
            "[LightGBM] [Warning] No further splits with positive gain, best gain: -inf\n",
            "[LightGBM] [Warning] No further splits with positive gain, best gain: -inf\n",
            "[LightGBM] [Warning] No further splits with positive gain, best gain: -inf\n",
            "[LightGBM] [Warning] No further splits with positive gain, best gain: -inf\n",
            "[LightGBM] [Warning] No further splits with positive gain, best gain: -inf\n",
            "[LightGBM] [Warning] No further splits with positive gain, best gain: -inf\n",
            "[LightGBM] [Warning] No further splits with positive gain, best gain: -inf\n",
            "[LightGBM] [Warning] No further splits with positive gain, best gain: -inf\n",
            "[LightGBM] [Warning] No further splits with positive gain, best gain: -inf\n",
            "[LightGBM] [Warning] No further splits with positive gain, best gain: -inf\n",
            "[LightGBM] [Warning] No further splits with positive gain, best gain: -inf\n",
            "[LightGBM] [Warning] No further splits with positive gain, best gain: -inf\n",
            "[LightGBM] [Warning] No further splits with positive gain, best gain: -inf\n",
            "[LightGBM] [Warning] No further splits with positive gain, best gain: -inf\n",
            "[LightGBM] [Warning] No further splits with positive gain, best gain: -inf\n",
            "[LightGBM] [Warning] No further splits with positive gain, best gain: -inf\n",
            "[LightGBM] [Warning] No further splits with positive gain, best gain: -inf\n",
            "[LightGBM] [Warning] No further splits with positive gain, best gain: -inf\n",
            "[LightGBM] [Warning] No further splits with positive gain, best gain: -inf\n",
            "[LightGBM] [Warning] No further splits with positive gain, best gain: -inf\n",
            "[LightGBM] [Warning] No further splits with positive gain, best gain: -inf\n",
            "[LightGBM] [Warning] No further splits with positive gain, best gain: -inf\n",
            "[LightGBM] [Warning] No further splits with positive gain, best gain: -inf\n",
            "[LightGBM] [Warning] No further splits with positive gain, best gain: -inf\n",
            "[LightGBM] [Warning] No further splits with positive gain, best gain: -inf\n",
            "[LightGBM] [Warning] No further splits with positive gain, best gain: -inf\n",
            "[LightGBM] [Warning] No further splits with positive gain, best gain: -inf\n",
            "[LightGBM] [Warning] No further splits with positive gain, best gain: -inf\n",
            "[LightGBM] [Warning] No further splits with positive gain, best gain: -inf\n",
            "[LightGBM] [Warning] No further splits with positive gain, best gain: -inf\n",
            "[LightGBM] [Warning] No further splits with positive gain, best gain: -inf\n",
            "[LightGBM] [Warning] No further splits with positive gain, best gain: -inf\n",
            "[LightGBM] [Warning] No further splits with positive gain, best gain: -inf\n",
            "[LightGBM] [Warning] No further splits with positive gain, best gain: -inf\n",
            "[LightGBM] [Warning] No further splits with positive gain, best gain: -inf\n",
            "[LightGBM] [Warning] No further splits with positive gain, best gain: -inf\n",
            "[LightGBM] [Warning] No further splits with positive gain, best gain: -inf\n",
            "[LightGBM] [Warning] No further splits with positive gain, best gain: -inf\n",
            "[LightGBM] [Warning] No further splits with positive gain, best gain: -inf\n",
            "[LightGBM] [Warning] No further splits with positive gain, best gain: -inf\n",
            "[LightGBM] [Warning] No further splits with positive gain, best gain: -inf\n",
            "[LightGBM] [Warning] No further splits with positive gain, best gain: -inf\n",
            "[LightGBM] [Warning] No further splits with positive gain, best gain: -inf\n",
            "[LightGBM] [Warning] No further splits with positive gain, best gain: -inf\n",
            "[LightGBM] [Warning] No further splits with positive gain, best gain: -inf\n",
            "[LightGBM] [Warning] No further splits with positive gain, best gain: -inf\n",
            "[LightGBM] [Warning] No further splits with positive gain, best gain: -inf\n",
            "[LightGBM] [Warning] No further splits with positive gain, best gain: -inf\n",
            "[LightGBM] [Warning] No further splits with positive gain, best gain: -inf\n",
            "[LightGBM] [Warning] No further splits with positive gain, best gain: -inf\n",
            "[LightGBM] [Warning] No further splits with positive gain, best gain: -inf\n",
            "[LightGBM] [Warning] No further splits with positive gain, best gain: -inf\n",
            "[LightGBM] [Warning] No further splits with positive gain, best gain: -inf\n",
            "[LightGBM] [Warning] No further splits with positive gain, best gain: -inf\n",
            "[LightGBM] [Warning] No further splits with positive gain, best gain: -inf\n",
            "[LightGBM] [Warning] No further splits with positive gain, best gain: -inf\n",
            "[LightGBM] [Warning] No further splits with positive gain, best gain: -inf\n",
            "[LightGBM] [Warning] No further splits with positive gain, best gain: -inf\n",
            "[LightGBM] [Warning] No further splits with positive gain, best gain: -inf\n",
            "[LightGBM] [Warning] No further splits with positive gain, best gain: -inf\n",
            "[LightGBM] [Warning] No further splits with positive gain, best gain: -inf\n",
            "[LightGBM] [Warning] No further splits with positive gain, best gain: -inf\n",
            "[LightGBM] [Warning] No further splits with positive gain, best gain: -inf\n",
            "[LightGBM] [Warning] No further splits with positive gain, best gain: -inf\n",
            "[LightGBM] [Warning] No further splits with positive gain, best gain: -inf\n",
            "[LightGBM] [Warning] No further splits with positive gain, best gain: -inf\n",
            "[LightGBM] [Warning] No further splits with positive gain, best gain: -inf\n",
            "[LightGBM] [Warning] No further splits with positive gain, best gain: -inf\n",
            "[LightGBM] [Warning] No further splits with positive gain, best gain: -inf\n",
            "[LightGBM] [Warning] No further splits with positive gain, best gain: -inf\n",
            "[LightGBM] [Warning] No further splits with positive gain, best gain: -inf\n",
            "[LightGBM] [Warning] No further splits with positive gain, best gain: -inf\n",
            "[LightGBM] [Warning] No further splits with positive gain, best gain: -inf\n",
            "[LightGBM] [Warning] No further splits with positive gain, best gain: -inf\n",
            "[LightGBM] [Warning] No further splits with positive gain, best gain: -inf\n",
            "[LightGBM] [Warning] No further splits with positive gain, best gain: -inf\n",
            "[LightGBM] [Warning] No further splits with positive gain, best gain: -inf\n",
            "[LightGBM] [Warning] No further splits with positive gain, best gain: -inf\n",
            "Accuracy: 0.98\n",
            "Precision: 0.98\n",
            "Recall: 0.98\n",
            "F1-Score: 0.98\n",
            "Classification Report:\n",
            "               precision    recall  f1-score   support\n",
            "\n",
            "           0       1.00      0.50      0.67         2\n",
            "           1       0.98      1.00      0.99        60\n",
            "\n",
            "    accuracy                           0.98        62\n",
            "   macro avg       0.99      0.75      0.83        62\n",
            "weighted avg       0.98      0.98      0.98        62\n",
            "\n"
          ]
        },
        {
          "output_type": "display_data",
          "data": {
            "text/plain": [
              "<Figure size 800x600 with 1 Axes>"
            ],
            "image/png": "[encoded data removed]"
          },
          "metadata": {}
        }
      ]
    }
  ],
  "metadata": {
    "colab": {
      "provenance": [],
      "gpuType": "T4"
    },
    "kernelspec": {
      "display_name": "Python 3",
      "name": "python3"
    },
    "language_info": {
      "name": "python"
    },
    "accelerator": "GPU"
  },
  "nbformat": 4,
  "nbformat_minor": 0
}